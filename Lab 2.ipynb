{
 "cells": [
  {
   "cell_type": "code",
   "execution_count": 4,
   "metadata": {},
   "outputs": [
    {
     "name": "stdout",
     "output_type": "stream",
     "text": [
      "Yaser M Alghamdi\n",
      "222 E Boyd Dr\n",
      "Baton Rouge, LA, 70808\n",
      "Yaser M Alghamdi\r",
      "222 E Boyd Dr\r",
      "Baton Rouge, LA, 70808\n"
     ]
    }
   ],
   "source": [
    "## Excercise 1: Address\n",
    "\n",
    "print('Yaser M Alghamdi')\n",
    "print('222 E Boyd Dr')\n",
    "print('Baton Rouge, LA, 70808')\n",
    "\n",
    "print('Yaser M Alghamdi\\r222 E Boyd Dr\\rBaton Rouge, LA, 70808')"
   ]
  },
  {
   "cell_type": "code",
   "execution_count": 10,
   "metadata": {},
   "outputs": [
    {
     "name": "stdout",
     "output_type": "stream",
     "text": [
      "Hello Yaser!\n"
     ]
    }
   ],
   "source": [
    "## Excercise 2: Hello User\n",
    "\n",
    "name = input('Input your name:')\n",
    "print('Hello '+ name+'!')"
   ]
  },
  {
   "cell_type": "code",
   "execution_count": 16,
   "metadata": {},
   "outputs": [
    {
     "name": "stdout",
     "output_type": "stream",
     "text": [
      "Area of the room = 4.0 m^2\n"
     ]
    }
   ],
   "source": [
    "## Excercise 3: Area of a Room\n",
    "\n",
    "L = float(input('length of room in meters:'))\n",
    "W = float(input('Width of room in meters:'))\n",
    "print('Area of the room =', L*W,'m^2')"
   ]
  },
  {
   "cell_type": "code",
   "execution_count": 22,
   "metadata": {},
   "outputs": [],
   "source": [
    "def area(L,W):\n",
    "    area = L * W\n",
    "    return area"
   ]
  },
  {
   "cell_type": "code",
   "execution_count": 23,
   "metadata": {},
   "outputs": [
    {
     "data": {
      "text/plain": [
       "4"
      ]
     },
     "execution_count": 23,
     "metadata": {},
     "output_type": "execute_result"
    }
   ],
   "source": [
    "area(2,2)"
   ]
  },
  {
   "cell_type": "code",
   "execution_count": 24,
   "metadata": {},
   "outputs": [
    {
     "name": "stdout",
     "output_type": "stream",
     "text": [
      "Area of the room = 9 m^2\n"
     ]
    }
   ],
   "source": [
    "print('Area of the room =', area(3,3),'m^2')"
   ]
  },
  {
   "cell_type": "code",
   "execution_count": 27,
   "metadata": {},
   "outputs": [
    {
     "name": "stdout",
     "output_type": "stream",
     "text": [
      "This software will create a sorted list of integers\n",
      "Please eneter your positive integer one at a time\n",
      "Enter value of 0 to exit program and display the list\n",
      "1\n",
      "1\n",
      "1\n"
     ]
    },
    {
     "ename": "IndexError",
     "evalue": "list index out of range",
     "output_type": "error",
     "traceback": [
      "\u001b[1;31m---------------------------------------------------------------------------\u001b[0m",
      "\u001b[1;31mIndexError\u001b[0m                                Traceback (most recent call last)",
      "\u001b[1;32m<ipython-input-27-4faddb67bb60>\u001b[0m in \u001b[0;36m<module>\u001b[1;34m()\u001b[0m\n\u001b[0;32m     15\u001b[0m \u001b[0mmyList\u001b[0m\u001b[1;33m.\u001b[0m\u001b[0mremove\u001b[0m\u001b[1;33m(\u001b[0m\u001b[1;36m0\u001b[0m\u001b[1;33m)\u001b[0m\u001b[1;33m\u001b[0m\u001b[0m\n\u001b[0;32m     16\u001b[0m \u001b[1;32mfor\u001b[0m \u001b[0mnum\u001b[0m \u001b[1;32min\u001b[0m \u001b[0mmyList\u001b[0m\u001b[1;33m:\u001b[0m\u001b[1;33m\u001b[0m\u001b[0m\n\u001b[1;32m---> 17\u001b[1;33m     \u001b[0mprint\u001b[0m\u001b[1;33m(\u001b[0m\u001b[0mmyList\u001b[0m\u001b[1;33m[\u001b[0m\u001b[0mnum\u001b[0m\u001b[1;33m-\u001b[0m\u001b[1;36m1\u001b[0m\u001b[1;33m]\u001b[0m\u001b[1;33m)\u001b[0m\u001b[1;33m\u001b[0m\u001b[0m\n\u001b[0m",
      "\u001b[1;31mIndexError\u001b[0m: list index out of range"
     ]
    }
   ],
   "source": [
    "## Excercise 104: Sorted Order\n",
    "\n",
    "print('This software will create a sorted list of integers')\n",
    "print('Please eneter your positive integer one at a time')\n",
    "print('Enter value of 0 to exit program and display the list')\n",
    "myList = []\n",
    "i = 1\n",
    "\n",
    "while i > 0:\n",
    "    i = int(input('Input an integer or 0 to quit:'))\n",
    "    myList.append(i)\n",
    " \n",
    "# myList = sorted(myList)\n",
    "myList.sort()\n",
    "myList.remove(0)\n",
    "for num in myList:\n",
    "    print(myList[num-1])"
   ]
  },
  {
   "cell_type": "code",
   "execution_count": null,
   "metadata": {},
   "outputs": [],
   "source": []
  }
 ],
 "metadata": {
  "kernelspec": {
   "display_name": "Python 3",
   "language": "python",
   "name": "python3"
  },
  "language_info": {
   "codemirror_mode": {
    "name": "ipython",
    "version": 3
   },
   "file_extension": ".py",
   "mimetype": "text/x-python",
   "name": "python",
   "nbconvert_exporter": "python",
   "pygments_lexer": "ipython3",
   "version": "3.6.3"
  }
 },
 "nbformat": 4,
 "nbformat_minor": 2
}
